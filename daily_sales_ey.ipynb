{
  "nbformat": 4,
  "nbformat_minor": 0,
  "metadata": {
    "kernelspec": {
      "display_name": "Python 3",
      "language": "python",
      "name": "python3"
    },
    "language_info": {
      "codemirror_mode": {
        "name": "ipython",
        "version": 3
      },
      "file_extension": ".py",
      "mimetype": "text/x-python",
      "name": "python",
      "nbconvert_exporter": "python",
      "pygments_lexer": "ipython3",
      "version": "3.7.8"
    },
    "colab": {
      "name": "Untitled.ipynb",
      "provenance": [],
      "collapsed_sections": []
    },
    "accelerator": "GPU"
  },
  "cells": [
    {
      "cell_type": "code",
      "metadata": {
        "id": "kpy_yR8csURf",
        "outputId": "1d88068a-f5d7-49cf-e226-214bec8f3f33",
        "colab": {
          "base_uri": "https://localhost:8080/",
          "height": 70
        }
      },
      "source": [
        "import pandas as pd\n",
        "import numpy as np\n",
        "import statsmodels.api as sm\n",
        "from statsmodels.tsa.api import VAR\n",
        "import matplotlib.pyplot as plt\n",
        "from math import sqrt\n",
        "from sklearn.metrics import mean_squared_error\n",
        "import seaborn as sns\n",
        "from statsmodels.tsa.stattools import grangercausalitytests\n",
        "from statsmodels.tsa.stattools import adfuller\n",
        "import xgboost as xgb\n",
        "from sklearn.metrics import mean_squared_error, mean_absolute_error\n",
        "import imageio\n",
        "import os\n",
        "from statsmodels.graphics.tsaplots import plot_acf\n",
        "from sklearn.model_selection import cross_val_score, KFold"
      ],
      "execution_count": 1,
      "outputs": [
        {
          "output_type": "stream",
          "text": [
            "/usr/local/lib/python3.6/dist-packages/statsmodels/tools/_testing.py:19: FutureWarning: pandas.util.testing is deprecated. Use the functions in the public API at pandas.testing instead.\n",
            "  import pandas.util.testing as tm\n"
          ],
          "name": "stderr"
        }
      ]
    },
    {
      "cell_type": "code",
      "metadata": {
        "id": "9kLdMf4Yse6W",
        "outputId": "e88db120-a0bf-4747-c0db-fe8da3443b15",
        "colab": {
          "base_uri": "https://localhost:8080/",
          "height": 34
        }
      },
      "source": [
        "from google.colab import drive\n",
        "drive.mount('/content/drive')"
      ],
      "execution_count": 2,
      "outputs": [
        {
          "output_type": "stream",
          "text": [
            "Mounted at /content/drive\n"
          ],
          "name": "stdout"
        }
      ]
    },
    {
      "cell_type": "code",
      "metadata": {
        "id": "3XBlU4trtafM",
        "outputId": "249ddd22-ab15-48ea-b51d-5fbf293fcc60",
        "colab": {
          "base_uri": "https://localhost:8080/",
          "height": 101
        }
      },
      "source": [
        "!cp /content/drive/My\\ Drive/ey/data_science.zip .\n",
        "!unzip data_science.zip"
      ],
      "execution_count": 4,
      "outputs": [
        {
          "output_type": "stream",
          "text": [
            "Archive:  data_science.zip\n",
            "  inflating: sales.csv               \n",
            "  inflating: shops.csv               \n",
            "  inflating: item_categories.csv     \n",
            "  inflating: items.csv               \n"
          ],
          "name": "stdout"
        }
      ]
    },
    {
      "cell_type": "code",
      "metadata": {
        "id": "MhENMlMDsURj"
      },
      "source": [
        "transactions    = pd.read_csv('sales.csv')\n",
        "items           = pd.read_csv('items.csv')\n",
        "item_categories = pd.read_csv('item_categories.csv')\n",
        "shops           = pd.read_csv('shops.csv')"
      ],
      "execution_count": 19,
      "outputs": []
    },
    {
      "cell_type": "code",
      "metadata": {
        "id": "jLv8DXqWxfa2",
        "outputId": "3db3ce22-cb35-497e-8f5f-0dc2f921211c",
        "colab": {
          "base_uri": "https://localhost:8080/",
          "height": 195
        }
      },
      "source": [
        "transactions.head()"
      ],
      "execution_count": 110,
      "outputs": [
        {
          "output_type": "execute_result",
          "data": {
            "text/html": [
              "<div>\n",
              "<style scoped>\n",
              "    .dataframe tbody tr th:only-of-type {\n",
              "        vertical-align: middle;\n",
              "    }\n",
              "\n",
              "    .dataframe tbody tr th {\n",
              "        vertical-align: top;\n",
              "    }\n",
              "\n",
              "    .dataframe thead th {\n",
              "        text-align: right;\n",
              "    }\n",
              "</style>\n",
              "<table border=\"1\" class=\"dataframe\">\n",
              "  <thead>\n",
              "    <tr style=\"text-align: right;\">\n",
              "      <th></th>\n",
              "      <th>date</th>\n",
              "      <th>date_block_num</th>\n",
              "      <th>shop_id</th>\n",
              "      <th>item_id</th>\n",
              "      <th>item_price</th>\n",
              "      <th>item_cnt_day</th>\n",
              "    </tr>\n",
              "  </thead>\n",
              "  <tbody>\n",
              "    <tr>\n",
              "      <th>0</th>\n",
              "      <td>2013-01-02</td>\n",
              "      <td>0</td>\n",
              "      <td>59</td>\n",
              "      <td>22154</td>\n",
              "      <td>999.00</td>\n",
              "      <td>1.0</td>\n",
              "    </tr>\n",
              "    <tr>\n",
              "      <th>1</th>\n",
              "      <td>2013-01-03</td>\n",
              "      <td>0</td>\n",
              "      <td>25</td>\n",
              "      <td>2552</td>\n",
              "      <td>899.00</td>\n",
              "      <td>1.0</td>\n",
              "    </tr>\n",
              "    <tr>\n",
              "      <th>3</th>\n",
              "      <td>2013-01-06</td>\n",
              "      <td>0</td>\n",
              "      <td>25</td>\n",
              "      <td>2554</td>\n",
              "      <td>1709.05</td>\n",
              "      <td>1.0</td>\n",
              "    </tr>\n",
              "    <tr>\n",
              "      <th>4</th>\n",
              "      <td>2013-01-15</td>\n",
              "      <td>0</td>\n",
              "      <td>25</td>\n",
              "      <td>2555</td>\n",
              "      <td>1099.00</td>\n",
              "      <td>1.0</td>\n",
              "    </tr>\n",
              "    <tr>\n",
              "      <th>5</th>\n",
              "      <td>2013-01-10</td>\n",
              "      <td>0</td>\n",
              "      <td>25</td>\n",
              "      <td>2564</td>\n",
              "      <td>349.00</td>\n",
              "      <td>1.0</td>\n",
              "    </tr>\n",
              "  </tbody>\n",
              "</table>\n",
              "</div>"
            ],
            "text/plain": [
              "        date  date_block_num  shop_id  item_id  item_price  item_cnt_day\n",
              "0 2013-01-02               0       59    22154      999.00           1.0\n",
              "1 2013-01-03               0       25     2552      899.00           1.0\n",
              "3 2013-01-06               0       25     2554     1709.05           1.0\n",
              "4 2013-01-15               0       25     2555     1099.00           1.0\n",
              "5 2013-01-10               0       25     2564      349.00           1.0"
            ]
          },
          "metadata": {
            "tags": []
          },
          "execution_count": 110
        }
      ]
    },
    {
      "cell_type": "code",
      "metadata": {
        "id": "0IXNESXUsURm",
        "outputId": "a3f24161-984a-4de9-e1f4-0bd60bd43300",
        "colab": {
          "base_uri": "https://localhost:8080/",
          "height": 402
        }
      },
      "source": [
        "test = transactions.groupby(['shop_id', 'item_id']).size().reset_index(name='Freq')\n",
        "test.loc[:,'date_block_num'] = pd.Series([34]*len(test))\n",
        "test"
      ],
      "execution_count": 79,
      "outputs": [
        {
          "output_type": "execute_result",
          "data": {
            "text/html": [
              "<div>\n",
              "<style scoped>\n",
              "    .dataframe tbody tr th:only-of-type {\n",
              "        vertical-align: middle;\n",
              "    }\n",
              "\n",
              "    .dataframe tbody tr th {\n",
              "        vertical-align: top;\n",
              "    }\n",
              "\n",
              "    .dataframe thead th {\n",
              "        text-align: right;\n",
              "    }\n",
              "</style>\n",
              "<table border=\"1\" class=\"dataframe\">\n",
              "  <thead>\n",
              "    <tr style=\"text-align: right;\">\n",
              "      <th></th>\n",
              "      <th>shop_id</th>\n",
              "      <th>item_id</th>\n",
              "      <th>Freq</th>\n",
              "      <th>date_block_num</th>\n",
              "    </tr>\n",
              "  </thead>\n",
              "  <tbody>\n",
              "    <tr>\n",
              "      <th>0</th>\n",
              "      <td>0</td>\n",
              "      <td>30</td>\n",
              "      <td>9</td>\n",
              "      <td>34</td>\n",
              "    </tr>\n",
              "    <tr>\n",
              "      <th>1</th>\n",
              "      <td>0</td>\n",
              "      <td>31</td>\n",
              "      <td>7</td>\n",
              "      <td>34</td>\n",
              "    </tr>\n",
              "    <tr>\n",
              "      <th>2</th>\n",
              "      <td>0</td>\n",
              "      <td>32</td>\n",
              "      <td>11</td>\n",
              "      <td>34</td>\n",
              "    </tr>\n",
              "    <tr>\n",
              "      <th>3</th>\n",
              "      <td>0</td>\n",
              "      <td>33</td>\n",
              "      <td>6</td>\n",
              "      <td>34</td>\n",
              "    </tr>\n",
              "    <tr>\n",
              "      <th>4</th>\n",
              "      <td>0</td>\n",
              "      <td>35</td>\n",
              "      <td>12</td>\n",
              "      <td>34</td>\n",
              "    </tr>\n",
              "    <tr>\n",
              "      <th>...</th>\n",
              "      <td>...</td>\n",
              "      <td>...</td>\n",
              "      <td>...</td>\n",
              "      <td>...</td>\n",
              "    </tr>\n",
              "    <tr>\n",
              "      <th>423454</th>\n",
              "      <td>59</td>\n",
              "      <td>22154</td>\n",
              "      <td>1</td>\n",
              "      <td>34</td>\n",
              "    </tr>\n",
              "    <tr>\n",
              "      <th>423455</th>\n",
              "      <td>59</td>\n",
              "      <td>22155</td>\n",
              "      <td>1</td>\n",
              "      <td>34</td>\n",
              "    </tr>\n",
              "    <tr>\n",
              "      <th>423456</th>\n",
              "      <td>59</td>\n",
              "      <td>22162</td>\n",
              "      <td>16</td>\n",
              "      <td>34</td>\n",
              "    </tr>\n",
              "    <tr>\n",
              "      <th>423457</th>\n",
              "      <td>59</td>\n",
              "      <td>22164</td>\n",
              "      <td>6</td>\n",
              "      <td>34</td>\n",
              "    </tr>\n",
              "    <tr>\n",
              "      <th>423458</th>\n",
              "      <td>59</td>\n",
              "      <td>22167</td>\n",
              "      <td>4</td>\n",
              "      <td>34</td>\n",
              "    </tr>\n",
              "  </tbody>\n",
              "</table>\n",
              "<p>423459 rows × 4 columns</p>\n",
              "</div>"
            ],
            "text/plain": [
              "        shop_id  item_id  Freq  date_block_num\n",
              "0             0       30     9              34\n",
              "1             0       31     7              34\n",
              "2             0       32    11              34\n",
              "3             0       33     6              34\n",
              "4             0       35    12              34\n",
              "...         ...      ...   ...             ...\n",
              "423454       59    22154     1              34\n",
              "423455       59    22155     1              34\n",
              "423456       59    22162    16              34\n",
              "423457       59    22164     6              34\n",
              "423458       59    22167     4              34\n",
              "\n",
              "[423459 rows x 4 columns]"
            ]
          },
          "metadata": {
            "tags": []
          },
          "execution_count": 79
        }
      ]
    },
    {
      "cell_type": "markdown",
      "metadata": {
        "id": "qjJmZAtY5V2v"
      },
      "source": [
        "# **Famous Shops**"
      ]
    },
    {
      "cell_type": "code",
      "metadata": {
        "id": "1GGCaStIx5av",
        "outputId": "019f87f6-077f-446c-986b-381415f8417c",
        "colab": {
          "base_uri": "https://localhost:8080/",
          "height": 612
        }
      },
      "source": [
        "shops.columns = ['system_id','shop_name','shop_id','active_flag']\n",
        "transactions_vis = pd.merge(transactions, shops, on = 'shop_id', how = 'inner')\n",
        "Z = dict(transactions_vis['shop_name'].value_counts())\n",
        "fig, ax = plt.subplots(1, figsize=(15, 5))\n",
        "sns.stripplot(list(Z.keys()), list(Z.values()), ax = ax)\n",
        "plt.xticks(rotation = 90)\n",
        "plt.show()"
      ],
      "execution_count": 22,
      "outputs": [
        {
          "output_type": "stream",
          "text": [
            "/usr/local/lib/python3.6/dist-packages/seaborn/_decorators.py:43: FutureWarning: Pass the following variables as keyword args: x, y. From version 0.12, the only valid positional argument will be `data`, and passing other arguments without an explicit keyword will result in an error or misinterpretation.\n",
            "  FutureWarning\n"
          ],
          "name": "stderr"
        },
        {
          "output_type": "display_data",
          "data": {
            "image/png": "[encoded data removed]",
            "text/plain": [
              "<Figure size 1080x360 with 1 Axes>"
            ]
          },
          "metadata": {
            "tags": [],
            "needs_background": "light"
          }
        }
      ]
    },
    {
      "cell_type": "markdown",
      "metadata": {
        "id": "uD-CdkjT5gZs"
      },
      "source": [
        "# **Newly Introduce items Per month**"
      ]
    },
    {
      "cell_type": "code",
      "metadata": {
        "id": "iIv8aqcbzaV5",
        "outputId": "70496839-7893-4bca-b45a-db49e874f01e",
        "colab": {
          "base_uri": "https://localhost:8080/",
          "height": 336
        }
      },
      "source": [
        "df = transactions[transactions.date_block_num >= 12]\n",
        "months = np.sort(df.date_block_num.unique())\n",
        "new_items_introduced = [0] * 12\n",
        "for i in range(12, len(months)):\n",
        "    new_items_introduced[i%12] += len(np.setdiff1d(df[df.date_block_num == months[i]]['item_id'].unique(), df[df.date_block_num < months[i]]['item_id'].unique()))\n",
        "   \n",
        "plt.figure(figsize = (15, 5))\n",
        "plt.bar(np.arange(1,13), new_items_introduced)\n",
        "plt.title('Items introduced over months')\n",
        "plt.xticks(np.arange(1,13))\n",
        "plt.show()"
      ],
      "execution_count": 23,
      "outputs": [
        {
          "output_type": "display_data",
          "data": {
            "image/png": "[encoded data removed]",
            "text/plain": [
              "<Figure size 1080x360 with 1 Axes>"
            ]
          },
          "metadata": {
            "tags": [],
            "needs_background": "light"
          }
        }
      ]
    },
    {
      "cell_type": "markdown",
      "metadata": {
        "id": "i1_VB6Ap5pvn"
      },
      "source": [
        "# **Plot the feature distributions**"
      ]
    },
    {
      "cell_type": "code",
      "metadata": {
        "id": "8i9AQkOqvxF4",
        "outputId": "847b088a-b3ec-449d-c4c0-38d7e5335c8a",
        "colab": {
          "base_uri": "https://localhost:8080/",
          "height": 1000
        }
      },
      "source": [
        "def box_plot(df,f):\n",
        "    plt.figure(figsize=(10,4))\n",
        "    plt.title(f+' distribution')\n",
        "    x_min = int(df[f].min() - (abs(df[f].min())*0.1))\n",
        "    x_max = int(df[f].max() + (abs(df[f].max())*0.1))\n",
        "    if x_min==0:\n",
        "        x_min = -1\n",
        "    if x_max==0:\n",
        "        x_max = 1\n",
        "    plt.xlim(x_min,x_max)\n",
        "    sns.boxplot(x=df[f])\n",
        "\n",
        "plot_features = [x for x in transactions.columns.values if transactions[x].dtype != 'object']\n",
        "for f in plot_features:\n",
        "    box_plot(transactions,f)"
      ],
      "execution_count": 24,
      "outputs": [
        {
          "output_type": "display_data",
          "data": {
            "image/png": "[encoded data removed]",
            "text/plain": [
              "<Figure size 720x288 with 1 Axes>"
            ]
          },
          "metadata": {
            "tags": [],
            "needs_background": "light"
          }
        },
        {
          "output_type": "display_data",
          "data": {
            "image/png": "[encoded data removed]",
            "text/plain": [
              "<Figure size 720x288 with 1 Axes>"
            ]
          },
          "metadata": {
            "tags": [],
            "needs_background": "light"
          }
        },
        {
          "output_type": "display_data",
          "data": {
            "image/png": "[encoded data removed]",
            "text/plain": [
              "<Figure size 720x288 with 1 Axes>"
            ]
          },
          "metadata": {
            "tags": [],
            "needs_background": "light"
          }
        },
        {
          "output_type": "display_data",
          "data": {
            "image/png": "[encoded data removed]",
            "text/plain": [
              "<Figure size 720x288 with 1 Axes>"
            ]
          },
          "metadata": {
            "tags": [],
            "needs_background": "light"
          }
        },
        {
          "output_type": "display_data",
          "data": {
            "image/png": "[encoded data removed]",
            "text/plain": [
              "<Figure size 720x288 with 1 Axes>"
            ]
          },
          "metadata": {
            "tags": [],
            "needs_background": "light"
          }
        }
      ]
    },
    {
      "cell_type": "markdown",
      "metadata": {
        "id": "KXe2D2aQ5ypb"
      },
      "source": [
        "# **Outliers removal**"
      ]
    },
    {
      "cell_type": "code",
      "metadata": {
        "id": "iFkrjVajwQZY",
        "outputId": "543485f9-cdaa-409d-d1fd-d797fe3994e3",
        "colab": {
          "base_uri": "https://localhost:8080/",
          "height": 575
        }
      },
      "source": [
        "transactions = transactions[(transactions['item_price']<100000) & (transactions['item_price']>=0)]\n",
        "transactions = transactions[(transactions['item_cnt_day']<1000) & (transactions['item_cnt_day']>=0)]\n",
        "\n",
        "# distribution after outliers removal\n",
        "plot_features = ['item_price','item_cnt_day']\n",
        "for f in plot_features:\n",
        "    box_plot(transactions,f)"
      ],
      "execution_count": 25,
      "outputs": [
        {
          "output_type": "display_data",
          "data": {
            "image/png": "[encoded data removed]",
            "text/plain": [
              "<Figure size 720x288 with 1 Axes>"
            ]
          },
          "metadata": {
            "tags": [],
            "needs_background": "light"
          }
        },
        {
          "output_type": "display_data",
          "data": {
            "image/png": "[encoded data removed]",
            "text/plain": [
              "<Figure size 720x288 with 1 Axes>"
            ]
          },
          "metadata": {
            "tags": [],
            "needs_background": "light"
          }
        }
      ]
    },
    {
      "cell_type": "markdown",
      "metadata": {
        "id": "4WMq7M_c52Je"
      },
      "source": [
        "# **Cheking null**"
      ]
    },
    {
      "cell_type": "code",
      "metadata": {
        "id": "ejIkeB495S98",
        "outputId": "b0397431-8cb1-4c73-d7df-d81e9afc1bde",
        "colab": {
          "base_uri": "https://localhost:8080/",
          "height": 168
        }
      },
      "source": [
        "transactions['date'] = pd.to_datetime(transactions['date'], dayfirst=True)\n",
        "print(transactions['date'].min())\n",
        "print(transactions['date'].max())\n",
        "transactions.isnull().sum()"
      ],
      "execution_count": 26,
      "outputs": [
        {
          "output_type": "stream",
          "text": [
            "2013-01-01 00:00:00\n",
            "2015-10-31 00:00:00\n"
          ],
          "name": "stdout"
        },
        {
          "output_type": "execute_result",
          "data": {
            "text/plain": [
              "date              0\n",
              "date_block_num    0\n",
              "shop_id           0\n",
              "item_id           0\n",
              "item_price        0\n",
              "item_cnt_day      0\n",
              "dtype: int64"
            ]
          },
          "metadata": {
            "tags": []
          },
          "execution_count": 26
        }
      ]
    },
    {
      "cell_type": "code",
      "metadata": {
        "id": "pe2rszOZhVuX",
        "outputId": "c5e85c66-4138-42c1-feff-4bf304fd721e",
        "colab": {
          "base_uri": "https://localhost:8080/",
          "height": 195
        }
      },
      "source": [
        "transactions.head() "
      ],
      "execution_count": 27,
      "outputs": [
        {
          "output_type": "execute_result",
          "data": {
            "text/html": [
              "<div>\n",
              "<style scoped>\n",
              "    .dataframe tbody tr th:only-of-type {\n",
              "        vertical-align: middle;\n",
              "    }\n",
              "\n",
              "    .dataframe tbody tr th {\n",
              "        vertical-align: top;\n",
              "    }\n",
              "\n",
              "    .dataframe thead th {\n",
              "        text-align: right;\n",
              "    }\n",
              "</style>\n",
              "<table border=\"1\" class=\"dataframe\">\n",
              "  <thead>\n",
              "    <tr style=\"text-align: right;\">\n",
              "      <th></th>\n",
              "      <th>date</th>\n",
              "      <th>date_block_num</th>\n",
              "      <th>shop_id</th>\n",
              "      <th>item_id</th>\n",
              "      <th>item_price</th>\n",
              "      <th>item_cnt_day</th>\n",
              "    </tr>\n",
              "  </thead>\n",
              "  <tbody>\n",
              "    <tr>\n",
              "      <th>0</th>\n",
              "      <td>2013-01-02</td>\n",
              "      <td>0</td>\n",
              "      <td>59</td>\n",
              "      <td>22154</td>\n",
              "      <td>999.00</td>\n",
              "      <td>1.0</td>\n",
              "    </tr>\n",
              "    <tr>\n",
              "      <th>1</th>\n",
              "      <td>2013-01-03</td>\n",
              "      <td>0</td>\n",
              "      <td>25</td>\n",
              "      <td>2552</td>\n",
              "      <td>899.00</td>\n",
              "      <td>1.0</td>\n",
              "    </tr>\n",
              "    <tr>\n",
              "      <th>3</th>\n",
              "      <td>2013-01-06</td>\n",
              "      <td>0</td>\n",
              "      <td>25</td>\n",
              "      <td>2554</td>\n",
              "      <td>1709.05</td>\n",
              "      <td>1.0</td>\n",
              "    </tr>\n",
              "    <tr>\n",
              "      <th>4</th>\n",
              "      <td>2013-01-15</td>\n",
              "      <td>0</td>\n",
              "      <td>25</td>\n",
              "      <td>2555</td>\n",
              "      <td>1099.00</td>\n",
              "      <td>1.0</td>\n",
              "    </tr>\n",
              "    <tr>\n",
              "      <th>5</th>\n",
              "      <td>2013-01-10</td>\n",
              "      <td>0</td>\n",
              "      <td>25</td>\n",
              "      <td>2564</td>\n",
              "      <td>349.00</td>\n",
              "      <td>1.0</td>\n",
              "    </tr>\n",
              "  </tbody>\n",
              "</table>\n",
              "</div>"
            ],
            "text/plain": [
              "        date  date_block_num  shop_id  item_id  item_price  item_cnt_day\n",
              "0 2013-01-02               0       59    22154      999.00           1.0\n",
              "1 2013-01-03               0       25     2552      899.00           1.0\n",
              "3 2013-01-06               0       25     2554     1709.05           1.0\n",
              "4 2013-01-15               0       25     2555     1099.00           1.0\n",
              "5 2013-01-10               0       25     2564      349.00           1.0"
            ]
          },
          "metadata": {
            "tags": []
          },
          "execution_count": 27
        }
      ]
    },
    {
      "cell_type": "code",
      "metadata": {
        "id": "JZWHZZ--x70x"
      },
      "source": [
        "from itertools import product\n",
        "index_cols = ['shop_id', 'item_id', 'date_block_num']"
      ],
      "execution_count": 28,
      "outputs": []
    },
    {
      "cell_type": "code",
      "metadata": {
        "id": "QtAPfrNQx8Qy"
      },
      "source": [
        "grid = []\n",
        "for block_num in transactions['date_block_num'].unique():\n",
        "    cur_shops = transactions.loc[transactions['date_block_num'] == block_num, 'shop_id'].unique()\n",
        "    cur_items = transactions.loc[transactions['date_block_num'] == block_num, 'item_id'].unique()\n",
        "    grid.append(np.array(list(product(*[cur_shops, cur_items, [block_num]])), dtype='int32'))\n",
        "grid = pd.DataFrame(np.vstack(grid), columns = index_cols, dtype=np.int32)"
      ],
      "execution_count": 29,
      "outputs": []
    },
    {
      "cell_type": "code",
      "metadata": {
        "id": "nFjqlvkex8TO",
        "outputId": "9527bf3a-e272-4423-f4f4-239c54f33bd6",
        "colab": {
          "base_uri": "https://localhost:8080/",
          "height": 195
        }
      },
      "source": [
        "mean_transactions = transactions.groupby(['date_block_num', 'shop_id', 'item_id']).agg({'item_cnt_day':'sum','item_price':np.mean}).reset_index()\n",
        "mean_transactions = pd.merge(grid,mean_transactions,on=['date_block_num', 'shop_id', 'item_id'],how='left').fillna(0)\n",
        "mean_transactions = pd.merge(mean_transactions, items, on='item_id',how='left')\n",
        "mean_transactions.head()"
      ],
      "execution_count": 30,
      "outputs": [
        {
          "output_type": "execute_result",
          "data": {
            "text/html": [
              "<div>\n",
              "<style scoped>\n",
              "    .dataframe tbody tr th:only-of-type {\n",
              "        vertical-align: middle;\n",
              "    }\n",
              "\n",
              "    .dataframe tbody tr th {\n",
              "        vertical-align: top;\n",
              "    }\n",
              "\n",
              "    .dataframe thead th {\n",
              "        text-align: right;\n",
              "    }\n",
              "</style>\n",
              "<table border=\"1\" class=\"dataframe\">\n",
              "  <thead>\n",
              "    <tr style=\"text-align: right;\">\n",
              "      <th></th>\n",
              "      <th>shop_id</th>\n",
              "      <th>item_id</th>\n",
              "      <th>date_block_num</th>\n",
              "      <th>item_cnt_day</th>\n",
              "      <th>item_price</th>\n",
              "      <th>item_name</th>\n",
              "      <th>category</th>\n",
              "    </tr>\n",
              "  </thead>\n",
              "  <tbody>\n",
              "    <tr>\n",
              "      <th>0</th>\n",
              "      <td>59</td>\n",
              "      <td>22154</td>\n",
              "      <td>0</td>\n",
              "      <td>1.0</td>\n",
              "      <td>999.0</td>\n",
              "      <td>Scene 2012 (BD)</td>\n",
              "      <td>37</td>\n",
              "    </tr>\n",
              "    <tr>\n",
              "      <th>1</th>\n",
              "      <td>59</td>\n",
              "      <td>2552</td>\n",
              "      <td>0</td>\n",
              "      <td>0.0</td>\n",
              "      <td>0.0</td>\n",
              "      <td>DEEP PURPLE  The House Of Blue Light  LP</td>\n",
              "      <td>58</td>\n",
              "    </tr>\n",
              "    <tr>\n",
              "      <th>2</th>\n",
              "      <td>59</td>\n",
              "      <td>2554</td>\n",
              "      <td>0</td>\n",
              "      <td>0.0</td>\n",
              "      <td>0.0</td>\n",
              "      <td>DEEP PURPLE  Who Do You Think We Are  LP</td>\n",
              "      <td>58</td>\n",
              "    </tr>\n",
              "    <tr>\n",
              "      <th>3</th>\n",
              "      <td>59</td>\n",
              "      <td>2555</td>\n",
              "      <td>0</td>\n",
              "      <td>0.0</td>\n",
              "      <td>0.0</td>\n",
              "      <td>DEEP PURPLE 30 Very Best Of 2CD (Фирм.)</td>\n",
              "      <td>56</td>\n",
              "    </tr>\n",
              "    <tr>\n",
              "      <th>4</th>\n",
              "      <td>59</td>\n",
              "      <td>2564</td>\n",
              "      <td>0</td>\n",
              "      <td>0.0</td>\n",
              "      <td>0.0</td>\n",
              "      <td>DEEP PURPLE Perihelion: Live In Concert DVD (К...</td>\n",
              "      <td>59</td>\n",
              "    </tr>\n",
              "  </tbody>\n",
              "</table>\n",
              "</div>"
            ],
            "text/plain": [
              "   shop_id  ...  category\n",
              "0       59  ...        37\n",
              "1       59  ...        58\n",
              "2       59  ...        58\n",
              "3       59  ...        56\n",
              "4       59  ...        59\n",
              "\n",
              "[5 rows x 7 columns]"
            ]
          },
          "metadata": {
            "tags": []
          },
          "execution_count": 30
        }
      ]
    },
    {
      "cell_type": "markdown",
      "metadata": {
        "id": "UFrQZ2CtE--Z"
      },
      "source": [
        "# **DecisionTreeClassifier**"
      ]
    },
    {
      "cell_type": "code",
      "metadata": {
        "id": "ubqJ5HjihWIk"
      },
      "source": [
        "from sklearn import tree\n",
        "from sklearn.tree import DecisionTreeClassifier\n",
        "from sklearn.model_selection import train_test_split\n",
        "from sklearn import metrics\n",
        "\n",
        "model_DTC = tree.DecisionTreeClassifier(criterion='gini') \n",
        "\n",
        "cols = ['shop_id','date_block_num','item_id']\n",
        "monthly_sales.astype('int64')\n",
        "X = monthly_sales[cols] # Predictor columns\n",
        "y = monthly_sales.item_cnt_day  # Target variable\n",
        "\n",
        "X_train, X_test, y_train, y_test = train_test_split(X, y, test_size=0.3, random_state=1)"
      ],
      "execution_count": 59,
      "outputs": []
    },
    {
      "cell_type": "code",
      "metadata": {
        "id": "fQnMrj_6hWLi"
      },
      "source": [
        "clf = DecisionTreeClassifier()\n",
        "clf = clf.fit(X_train,y_train)\n",
        "\n",
        "#Predict the response for test dataset\n",
        "y_pred = clf.predict(X_test)"
      ],
      "execution_count": 60,
      "outputs": []
    },
    {
      "cell_type": "code",
      "metadata": {
        "id": "ldr2JdE6hWON",
        "outputId": "317c6d41-0fd2-4cf7-b12c-9aadc0b96e03",
        "colab": {
          "base_uri": "https://localhost:8080/",
          "height": 50
        }
      },
      "source": [
        "print(\"Accuracy:\",metrics.accuracy_score(y_test, y_pred))\n",
        "\n",
        "val_rmse = np.sqrt(mean_squared_error(y_test, y_pred))\n",
        "print(\"Val RMSE: %f\" % (val_rmse))"
      ],
      "execution_count": 61,
      "outputs": [
        {
          "output_type": "stream",
          "text": [
            "Accuracy: 0.5428413649387861\n",
            "Val RMSE: 7.096344\n"
          ],
          "name": "stdout"
        }
      ]
    },
    {
      "cell_type": "code",
      "metadata": {
        "id": "II-IwhTbhWRz"
      },
      "source": [
        "del clf"
      ],
      "execution_count": 65,
      "outputs": []
    },
    {
      "cell_type": "markdown",
      "metadata": {
        "id": "JohywBzgFCpv"
      },
      "source": [
        "# **Xgboost**"
      ]
    },
    {
      "cell_type": "code",
      "metadata": {
        "id": "l1q23SI9hWUC"
      },
      "source": [
        "DM_train = xgb.DMatrix(data=X_train, label=y_train)\n",
        "DM_test =  xgb.DMatrix(data=X_test, label= y_test)\n",
        "\n",
        "\n",
        "param = {'max_depth':10, \n",
        "         'subsample':1,\n",
        "         'min_child_weight':0.5,\n",
        "         'eta':0.3, \n",
        "         'num_round':1000, \n",
        "         'seed':1,\n",
        "         'silent':0,\n",
        "         'eval_metric':'rmse'} # random parameters\n",
        "\n",
        "bst = xgb.train(param, dtrain=DM_train)"
      ],
      "execution_count": 84,
      "outputs": []
    },
    {
      "cell_type": "code",
      "metadata": {
        "id": "xltOitnzpHS1",
        "outputId": "b882c517-5a02-4897-cfaa-b74c7e11a2eb",
        "colab": {
          "base_uri": "https://localhost:8080/",
          "height": 34
        }
      },
      "source": [
        "preds = bst.predict(DM_test)\n",
        "# Compute and print the RMSE\n",
        "rmse = np.sqrt(mean_squared_error(y_test,preds))\n",
        "print(\"RMSE: %f\" % (rmse))"
      ],
      "execution_count": 57,
      "outputs": [
        {
          "output_type": "stream",
          "text": [
            "RMSE: 5.195221\n"
          ],
          "name": "stdout"
        }
      ]
    },
    {
      "cell_type": "code",
      "metadata": {
        "id": "Cc3O-e0HpHVa",
        "outputId": "907b9697-2943-438c-ae3d-97d36616ed1b",
        "colab": {
          "base_uri": "https://localhost:8080/",
          "height": 265
        }
      },
      "source": [
        "x_ax = range(len(y_test))\n",
        "plt.plot(x_ax, y_test, label=\"original\")\n",
        "plt.plot(x_ax, preds, label=\"predicted\")\n",
        "plt.legend()\n",
        "plt.show()"
      ],
      "execution_count": 64,
      "outputs": [
        {
          "output_type": "display_data",
          "data": {
            "image/png": "[encoded data removed]",
            "text/plain": [
              "<Figure size 432x288 with 1 Axes>"
            ]
          },
          "metadata": {
            "tags": [],
            "needs_background": "light"
          }
        }
      ]
    },
    {
      "cell_type": "code",
      "metadata": {
        "id": "kmDcvvG8pHYU"
      },
      "source": [
        "X = test[cols]\n",
        "xgbpredict = xgb.DMatrix(X)\n",
        "preds = bst.predict(xgbpredict)"
      ],
      "execution_count": 86,
      "outputs": []
    },
    {
      "cell_type": "code",
      "metadata": {
        "id": "CS4fw1T6hWWu"
      },
      "source": [
        "test.loc[:,'prediction_cnt'] = preds"
      ],
      "execution_count": 90,
      "outputs": []
    },
    {
      "cell_type": "code",
      "metadata": {
        "id": "fxWPN1yH9J3M",
        "outputId": "e1dd273e-347a-4f03-8ab7-bbe267ec4411",
        "colab": {
          "base_uri": "https://localhost:8080/",
          "height": 1000
        }
      },
      "source": [
        "test.astype('int64')\n",
        "\n",
        "max_ = test.loc[test['prediction_cnt'].idxmax()]\n",
        "print(max_,\"---highest selling product of next month\")\n",
        "print(\"----------------\"+\"\\n\")\n",
        "\n",
        "\n",
        "for region, df_region in test.groupby('shop_id'):\n",
        "    print(\"Shop: \",region )\n",
        "    max_ = df_region.loc[df_region['prediction_cnt'].idxmax()]\n",
        "    print(max_)\n",
        "    print(\"----------------\"+\"\\n\")\n"
      ],
      "execution_count": 109,
      "outputs": [
        {
          "output_type": "stream",
          "text": [
            "shop_id             12.000000\n",
            "item_id           9248.000000\n",
            "Freq                60.000000\n",
            "date_block_num      34.000000\n",
            "prediction_cnt     849.892639\n",
            "Name: 63354, dtype: float64 ---highest selling prodcu of next month\n",
            "----------------\n",
            "\n",
            "Shop:  0\n",
            "shop_id               0.000000\n",
            "item_id           16623.000000\n",
            "Freq                 18.000000\n",
            "date_block_num       34.000000\n",
            "prediction_cnt       11.476667\n",
            "Name: 2657, dtype: float64\n",
            "----------------\n",
            "\n",
            "Shop:  1\n",
            "shop_id              1.000000\n",
            "item_id           9216.000000\n",
            "Freq                 1.000000\n",
            "date_block_num      34.000000\n",
            "prediction_cnt       7.286719\n",
            "Name: 4490, dtype: float64\n",
            "----------------\n",
            "\n",
            "Shop:  2\n",
            "shop_id              2.000000\n",
            "item_id           9241.000000\n",
            "Freq                 1.000000\n",
            "date_block_num      34.000000\n",
            "prediction_cnt     162.371109\n",
            "Name: 8325, dtype: float64\n",
            "----------------\n",
            "\n",
            "Shop:  3\n",
            "shop_id              3.000000\n",
            "item_id           9241.000000\n",
            "Freq                12.000000\n",
            "date_block_num      34.000000\n",
            "prediction_cnt     162.343292\n",
            "Name: 13357, dtype: float64\n",
            "----------------\n",
            "\n",
            "Shop:  4\n",
            "shop_id              4.000000\n",
            "item_id           9242.000000\n",
            "Freq                 2.000000\n",
            "date_block_num      34.000000\n",
            "prediction_cnt     158.060211\n",
            "Name: 19293, dtype: float64\n",
            "----------------\n",
            "\n",
            "Shop:  5\n",
            "shop_id              5.000000\n",
            "item_id           9241.000000\n",
            "Freq                 9.000000\n",
            "date_block_num      34.000000\n",
            "prediction_cnt     158.111572\n",
            "Name: 26285, dtype: float64\n",
            "----------------\n",
            "\n",
            "Shop:  6\n",
            "shop_id              6.000000\n",
            "item_id           9241.000000\n",
            "Freq                 8.000000\n",
            "date_block_num      34.000000\n",
            "prediction_cnt     156.899612\n",
            "Name: 35288, dtype: float64\n",
            "----------------\n",
            "\n",
            "Shop:  7\n",
            "shop_id              7.000000\n",
            "item_id           9241.000000\n",
            "Freq                 2.000000\n",
            "date_block_num      34.000000\n",
            "prediction_cnt     156.899612\n",
            "Name: 45697, dtype: float64\n",
            "----------------\n",
            "\n",
            "Shop:  8\n",
            "shop_id              8.000000\n",
            "item_id           4211.000000\n",
            "Freq                 1.000000\n",
            "date_block_num      34.000000\n",
            "prediction_cnt      35.540096\n",
            "Name: 51048, dtype: float64\n",
            "----------------\n",
            "\n",
            "Shop:  9\n",
            "shop_id              9.000000\n",
            "item_id           4201.000000\n",
            "Freq                 4.000000\n",
            "date_block_num      34.000000\n",
            "prediction_cnt      63.196648\n",
            "Name: 52711, dtype: float64\n",
            "----------------\n",
            "\n",
            "Shop:  10\n",
            "shop_id             10.000000\n",
            "item_id           9257.000000\n",
            "Freq                 1.000000\n",
            "date_block_num      34.000000\n",
            "prediction_cnt     380.129578\n",
            "Name: 56321, dtype: float64\n",
            "----------------\n",
            "\n",
            "Shop:  11\n",
            "shop_id              11.000000\n",
            "item_id           20949.000000\n",
            "Freq                 17.000000\n",
            "date_block_num       34.000000\n",
            "prediction_cnt       51.683273\n",
            "Name: 60166, dtype: float64\n",
            "----------------\n",
            "\n",
            "Shop:  12\n",
            "shop_id             12.000000\n",
            "item_id           9248.000000\n",
            "Freq                60.000000\n",
            "date_block_num      34.000000\n",
            "prediction_cnt     849.892639\n",
            "Name: 63354, dtype: float64\n",
            "----------------\n",
            "\n",
            "Shop:  13\n",
            "shop_id              13.000000\n",
            "item_id           20949.000000\n",
            "Freq                361.000000\n",
            "date_block_num       34.000000\n",
            "prediction_cnt       55.308762\n",
            "Name: 72114, dtype: float64\n",
            "----------------\n",
            "\n",
            "Shop:  14\n",
            "shop_id             14.000000\n",
            "item_id           9242.000000\n",
            "Freq                 4.000000\n",
            "date_block_num      34.000000\n",
            "prediction_cnt     158.089478\n",
            "Name: 75550, dtype: float64\n",
            "----------------\n",
            "\n",
            "Shop:  15\n",
            "shop_id             15.00000\n",
            "item_id           9242.00000\n",
            "Freq                26.00000\n",
            "date_block_num      34.00000\n",
            "prediction_cnt     163.86113\n",
            "Name: 82992, dtype: float64\n",
            "----------------\n",
            "\n",
            "Shop:  16\n",
            "shop_id             16.000000\n",
            "item_id           9242.000000\n",
            "Freq                27.000000\n",
            "date_block_num      34.000000\n",
            "prediction_cnt     163.815948\n",
            "Name: 91707, dtype: float64\n",
            "----------------\n",
            "\n",
            "Shop:  17\n",
            "shop_id             17.000000\n",
            "item_id           9242.000000\n",
            "Freq                 1.000000\n",
            "date_block_num      34.000000\n",
            "prediction_cnt     163.716537\n",
            "Name: 99710, dtype: float64\n",
            "----------------\n",
            "\n",
            "Shop:  18\n",
            "shop_id              18.000000\n",
            "item_id           20949.000000\n",
            "Freq                653.000000\n",
            "date_block_num       34.000000\n",
            "prediction_cnt       52.903881\n",
            "Name: 111249, dtype: float64\n",
            "----------------\n",
            "\n",
            "Shop:  19\n",
            "shop_id             19.00000\n",
            "item_id           9242.00000\n",
            "Freq                13.00000\n",
            "date_block_num      34.00000\n",
            "prediction_cnt     163.87854\n",
            "Name: 115225, dtype: float64\n",
            "----------------\n",
            "\n",
            "Shop:  20\n",
            "shop_id              20.00000\n",
            "item_id           16842.00000\n",
            "Freq                  1.00000\n",
            "date_block_num       34.00000\n",
            "prediction_cnt       13.60212\n",
            "Name: 121573, dtype: float64\n",
            "----------------\n",
            "\n",
            "Shop:  21\n",
            "shop_id             21.000000\n",
            "item_id           9241.000000\n",
            "Freq                18.000000\n",
            "date_block_num      34.000000\n",
            "prediction_cnt     163.713852\n",
            "Name: 125569, dtype: float64\n",
            "----------------\n",
            "\n",
            "Shop:  22\n",
            "shop_id             22.000000\n",
            "item_id           9241.000000\n",
            "Freq                16.000000\n",
            "date_block_num      34.000000\n",
            "prediction_cnt     163.713852\n",
            "Name: 135302, dtype: float64\n",
            "----------------\n",
            "\n",
            "Shop:  23\n",
            "shop_id             23.000000\n",
            "item_id           7226.000000\n",
            "Freq                 2.000000\n",
            "date_block_num      34.000000\n",
            "prediction_cnt       9.457747\n",
            "Name: 140956, dtype: float64\n",
            "----------------\n",
            "\n",
            "Shop:  24\n",
            "shop_id             24.000000\n",
            "item_id           9241.000000\n",
            "Freq                14.000000\n",
            "date_block_num      34.000000\n",
            "prediction_cnt     163.713852\n",
            "Name: 146236, dtype: float64\n",
            "----------------\n",
            "\n",
            "Shop:  25\n",
            "shop_id              25.000000\n",
            "item_id           20949.000000\n",
            "Freq                800.000000\n",
            "date_block_num       34.000000\n",
            "prediction_cnt      367.059204\n",
            "Name: 165597, dtype: float64\n",
            "----------------\n",
            "\n",
            "Shop:  26\n",
            "shop_id             26.000000\n",
            "item_id           9241.000000\n",
            "Freq                21.000000\n",
            "date_block_num      34.000000\n",
            "prediction_cnt     175.915924\n",
            "Name: 169838, dtype: float64\n",
            "----------------\n",
            "\n",
            "Shop:  27\n",
            "shop_id              27.000000\n",
            "item_id           20949.000000\n",
            "Freq                710.000000\n",
            "date_block_num       34.000000\n",
            "prediction_cnt      251.206711\n",
            "Name: 185957, dtype: float64\n",
            "----------------\n",
            "\n",
            "Shop:  28\n",
            "shop_id              28.000000\n",
            "item_id           20949.000000\n",
            "Freq                867.000000\n",
            "date_block_num       34.000000\n",
            "prediction_cnt      266.796631\n",
            "Name: 198443, dtype: float64\n",
            "----------------\n",
            "\n",
            "Shop:  29\n",
            "shop_id             29.000000\n",
            "item_id           9241.000000\n",
            "Freq                17.000000\n",
            "date_block_num      34.000000\n",
            "prediction_cnt     157.038849\n",
            "Name: 202025, dtype: float64\n",
            "----------------\n",
            "\n",
            "Shop:  30\n",
            "shop_id             30.000000\n",
            "item_id           9241.000000\n",
            "Freq                31.000000\n",
            "date_block_num      34.000000\n",
            "prediction_cnt     157.038849\n",
            "Name: 210387, dtype: float64\n",
            "----------------\n",
            "\n",
            "Shop:  31\n",
            "shop_id              31.000000\n",
            "item_id           20949.000000\n",
            "Freq                863.000000\n",
            "date_block_num       34.000000\n",
            "prediction_cnt      406.443756\n",
            "Name: 229954, dtype: float64\n",
            "----------------\n",
            "\n",
            "Shop:  32\n",
            "shop_id              32.000000\n",
            "item_id           20949.000000\n",
            "Freq                 29.000000\n",
            "date_block_num       34.000000\n",
            "prediction_cnt       80.970108\n",
            "Name: 233883, dtype: float64\n",
            "----------------\n",
            "\n",
            "Shop:  33\n",
            "shop_id             33.00000\n",
            "item_id           9241.00000\n",
            "Freq                 7.00000\n",
            "date_block_num      34.00000\n",
            "prediction_cnt     156.38562\n",
            "Name: 234874, dtype: float64\n",
            "----------------\n",
            "\n",
            "Shop:  34\n",
            "shop_id             34.00000\n",
            "item_id           9242.00000\n",
            "Freq                 3.00000\n",
            "date_block_num      34.00000\n",
            "prediction_cnt     156.38562\n",
            "Name: 236818, dtype: float64\n",
            "----------------\n",
            "\n",
            "Shop:  35\n",
            "shop_id             35.00000\n",
            "item_id           9241.00000\n",
            "Freq                 7.00000\n",
            "date_block_num      34.00000\n",
            "prediction_cnt     156.62265\n",
            "Name: 241233, dtype: float64\n",
            "----------------\n",
            "\n",
            "Shop:  36\n",
            "shop_id              36.000000\n",
            "item_id           20949.000000\n",
            "Freq                  8.000000\n",
            "date_block_num       34.000000\n",
            "prediction_cnt       75.102402\n",
            "Name: 247153, dtype: float64\n",
            "----------------\n",
            "\n",
            "Shop:  37\n",
            "shop_id             37.000000\n",
            "item_id           9242.000000\n",
            "Freq                 1.000000\n",
            "date_block_num      34.000000\n",
            "prediction_cnt     156.571335\n",
            "Name: 250585, dtype: float64\n",
            "----------------\n",
            "\n",
            "Shop:  38\n",
            "shop_id             38.000000\n",
            "item_id           9241.000000\n",
            "Freq                 1.000000\n",
            "date_block_num      34.000000\n",
            "prediction_cnt     156.579834\n",
            "Name: 258603, dtype: float64\n",
            "----------------\n",
            "\n",
            "Shop:  39\n",
            "shop_id             39.000000\n",
            "item_id           9241.000000\n",
            "Freq                 3.000000\n",
            "date_block_num      34.000000\n",
            "prediction_cnt     156.424454\n",
            "Name: 264633, dtype: float64\n",
            "----------------\n",
            "\n",
            "Shop:  40\n",
            "shop_id              40.000000\n",
            "item_id           20949.000000\n",
            "Freq                232.000000\n",
            "date_block_num       34.000000\n",
            "prediction_cnt       34.424076\n",
            "Name: 267797, dtype: float64\n",
            "----------------\n",
            "\n",
            "Shop:  41\n",
            "shop_id             41.000000\n",
            "item_id           9241.000000\n",
            "Freq                 3.000000\n",
            "date_block_num      34.000000\n",
            "prediction_cnt     156.567123\n",
            "Name: 270564, dtype: float64\n",
            "----------------\n",
            "\n",
            "Shop:  42\n",
            "shop_id              42.000000\n",
            "item_id           20949.000000\n",
            "Freq                834.000000\n",
            "date_block_num       34.000000\n",
            "prediction_cnt      348.928253\n",
            "Name: 286435, dtype: float64\n",
            "----------------\n",
            "\n",
            "Shop:  43\n",
            "shop_id             43.000000\n",
            "item_id           9241.000000\n",
            "Freq                 5.000000\n",
            "date_block_num      34.000000\n",
            "prediction_cnt     156.734863\n",
            "Name: 289728, dtype: float64\n",
            "----------------\n",
            "\n",
            "Shop:  44\n",
            "shop_id             44.000000\n",
            "item_id           9241.000000\n",
            "Freq                 1.000000\n",
            "date_block_num      34.000000\n",
            "prediction_cnt     156.507462\n",
            "Name: 297091, dtype: float64\n",
            "----------------\n",
            "\n",
            "Shop:  45\n",
            "shop_id             45.000000\n",
            "item_id           9241.000000\n",
            "Freq                 2.000000\n",
            "date_block_num      34.000000\n",
            "prediction_cnt     156.507462\n",
            "Name: 305513, dtype: float64\n",
            "----------------\n",
            "\n",
            "Shop:  46\n",
            "shop_id             46.000000\n",
            "item_id           9241.000000\n",
            "Freq                16.000000\n",
            "date_block_num      34.000000\n",
            "prediction_cnt     156.656219\n",
            "Name: 313405, dtype: float64\n",
            "----------------\n",
            "\n",
            "Shop:  47\n",
            "shop_id             47.000000\n",
            "item_id           9241.000000\n",
            "Freq                 1.000000\n",
            "date_block_num      34.000000\n",
            "prediction_cnt     156.713486\n",
            "Name: 322237, dtype: float64\n",
            "----------------\n",
            "\n",
            "Shop:  48\n",
            "shop_id              48.000000\n",
            "item_id           20949.000000\n",
            "Freq                399.000000\n",
            "date_block_num       34.000000\n",
            "prediction_cnt       39.783909\n",
            "Name: 330884, dtype: float64\n",
            "----------------\n",
            "\n",
            "Shop:  49\n",
            "shop_id              49.000000\n",
            "item_id           20949.000000\n",
            "Freq                379.000000\n",
            "date_block_num       34.000000\n",
            "prediction_cnt       26.272213\n",
            "Name: 334689, dtype: float64\n",
            "----------------\n",
            "\n",
            "Shop:  50\n",
            "shop_id             50.000000\n",
            "item_id           9241.000000\n",
            "Freq                 1.000000\n",
            "date_block_num      34.000000\n",
            "prediction_cnt     156.530624\n",
            "Name: 338334, dtype: float64\n",
            "----------------\n",
            "\n",
            "Shop:  51\n",
            "shop_id              51.000000\n",
            "item_id           20949.000000\n",
            "Freq                465.000000\n",
            "date_block_num       34.000000\n",
            "prediction_cnt       34.292858\n",
            "Name: 352333, dtype: float64\n",
            "----------------\n",
            "\n",
            "Shop:  52\n",
            "shop_id             52.000000\n",
            "item_id           9241.000000\n",
            "Freq                 1.000000\n",
            "date_block_num      34.000000\n",
            "prediction_cnt     156.499161\n",
            "Name: 356046, dtype: float64\n",
            "----------------\n",
            "\n",
            "Shop:  53\n",
            "shop_id             53.000000\n",
            "item_id           9241.000000\n",
            "Freq                 3.000000\n",
            "date_block_num      34.000000\n",
            "prediction_cnt     156.579315\n",
            "Name: 364159, dtype: float64\n",
            "----------------\n",
            "\n",
            "Shop:  54\n",
            "shop_id              54.000000\n",
            "item_id           20949.000000\n",
            "Freq                626.000000\n",
            "date_block_num       34.000000\n",
            "prediction_cnt      516.714478\n",
            "Name: 381756, dtype: float64\n",
            "----------------\n",
            "\n",
            "Shop:  55\n",
            "shop_id             55.000000\n",
            "item_id           9248.000000\n",
            "Freq                 1.000000\n",
            "date_block_num      34.000000\n",
            "prediction_cnt     726.861084\n",
            "Name: 384045, dtype: float64\n",
            "----------------\n",
            "\n",
            "Shop:  56\n",
            "shop_id             56.000000\n",
            "item_id           9241.000000\n",
            "Freq                11.000000\n",
            "date_block_num      34.000000\n",
            "prediction_cnt     156.555145\n",
            "Name: 388354, dtype: float64\n",
            "----------------\n",
            "\n",
            "Shop:  57\n",
            "shop_id             57.000000\n",
            "item_id           9241.000000\n",
            "Freq                 2.000000\n",
            "date_block_num      34.000000\n",
            "prediction_cnt     156.841293\n",
            "Name: 399863, dtype: float64\n",
            "----------------\n",
            "\n",
            "Shop:  58\n",
            "shop_id             58.000000\n",
            "item_id           9242.000000\n",
            "Freq                 1.000000\n",
            "date_block_num      34.000000\n",
            "prediction_cnt     156.758881\n",
            "Name: 410741, dtype: float64\n",
            "----------------\n",
            "\n",
            "Shop:  59\n",
            "shop_id             59.000000\n",
            "item_id           9241.000000\n",
            "Freq                 9.000000\n",
            "date_block_num      34.000000\n",
            "prediction_cnt     156.613312\n",
            "Name: 419014, dtype: float64\n",
            "----------------\n",
            "\n"
          ],
          "name": "stdout"
        }
      ]
    },
    {
      "cell_type": "code",
      "metadata": {
        "id": "qmI6AN0w9J52"
      },
      "source": [
        ""
      ],
      "execution_count": null,
      "outputs": []
    }
  ]
}